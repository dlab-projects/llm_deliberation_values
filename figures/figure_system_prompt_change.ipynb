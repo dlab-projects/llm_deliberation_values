{
 "cells": [
  {
   "cell_type": "code",
   "execution_count": 1,
   "id": "7afcf6d7",
   "metadata": {},
   "outputs": [],
   "source": [
    "import matplotlib.pyplot as plt\n",
    "import numpy as np\n",
    "import os\n",
    "import pandas as pd\n",
    "import pickle\n",
    "\n",
    "from matplotlib.gridspec import GridSpec\n",
    "from llm_deliberation.utils import bootstrap_statistic_df, jaccard, change_of_minds\n",
    "from scipy.stats import mannwhitneyu\n",
    "from statsmodels.stats.proportion import proportions_ztest\n",
    "\n",
    "from pyprojroot import here\n",
    "from mpl_lego.labels import bold_text, add_significance_bracket_inplot, apply_subplot_labels\n",
    "from mpl_lego.style import use_latex_style"
   ]
  },
  {
   "cell_type": "code",
   "execution_count": 2,
   "id": "6d31eb5d",
   "metadata": {},
   "outputs": [],
   "source": [
    "use_latex_style()"
   ]
  },
  {
   "cell_type": "code",
   "execution_count": 3,
   "id": "189f822a",
   "metadata": {},
   "outputs": [],
   "source": [
    "with open(here('data/analysis/exp1_sync_h2h.pkl'), 'rb') as file:\n",
    "    exp1a = pickle.load(file)\n",
    "\n",
    "with open(here('data/analysis/exp5_sync_h2h.pkl'), 'rb') as file:\n",
    "    exp2a = pickle.load(file)\n",
    "\n",
    "with open(here('data/analysis/exp6_sync_h2h.pkl'), 'rb') as file:\n",
    "    exp3a = pickle.load(file)"
   ]
  },
  {
   "cell_type": "code",
   "execution_count": 4,
   "id": "c60e6bfa",
   "metadata": {},
   "outputs": [],
   "source": [
    "with open(here('data/analysis/exp10_sync_h2h.pkl'), 'rb') as file:\n",
    "    exp3b = pickle.load(file)\n",
    "\n",
    "with open(here('data/analysis/exp11_sync_h2h.pkl'), 'rb') as file:\n",
    "    exp1b = pickle.load(file)\n",
    "\n",
    "with open(here('data/analysis/exp12_sync_h2h.pkl'), 'rb') as file:\n",
    "    exp2b = pickle.load(file)"
   ]
  },
  {
   "cell_type": "code",
   "execution_count": 5,
   "id": "55cb5fd0",
   "metadata": {},
   "outputs": [],
   "source": [
    "exp1a_round1 = bootstrap_statistic_df(\n",
    "    df=exp1a,\n",
    "    statistic_func=lambda df: (df['n_rounds'] == 1).mean(),\n",
    "    n_bootstrap=1000,\n",
    "    confidence_level=0.95)\n",
    "\n",
    "exp1b_round1 = bootstrap_statistic_df(\n",
    "    df=exp1b,\n",
    "    statistic_func=lambda df: (df['n_rounds'] == 1).mean(),\n",
    "    n_bootstrap=1000,\n",
    "    confidence_level=0.95)\n",
    "\n",
    "exp2a_round1 = bootstrap_statistic_df(\n",
    "    df=exp2a,\n",
    "    statistic_func=lambda df: (df['n_rounds'] == 1).mean(),\n",
    "    n_bootstrap=1000,\n",
    "    confidence_level=0.95)\n",
    "\n",
    "exp2b_round1 = bootstrap_statistic_df(\n",
    "    df=exp2b,\n",
    "    statistic_func=lambda df: (df['n_rounds'] == 1).mean(),\n",
    "    n_bootstrap=1000,\n",
    "    confidence_level=0.95)\n",
    "\n",
    "exp3a_round1 = bootstrap_statistic_df(\n",
    "    df=exp3a,\n",
    "    statistic_func=lambda df: (df['n_rounds'] == 1).mean(),\n",
    "    n_bootstrap=1000,\n",
    "    confidence_level=0.95)\n",
    "\n",
    "exp3b_round1 = bootstrap_statistic_df(\n",
    "    df=exp3b,\n",
    "    statistic_func=lambda df: (df['n_rounds'] == 1).mean(),\n",
    "    n_bootstrap=1000,\n",
    "    confidence_level=0.95)"
   ]
  },
  {
   "cell_type": "code",
   "execution_count": 6,
   "id": "de2eefef",
   "metadata": {},
   "outputs": [],
   "source": [
    "exp1a_final = bootstrap_statistic_df(\n",
    "    df=exp1a,\n",
    "    statistic_func=lambda df: (~df['final_verdict'].isna()).mean(),\n",
    "    n_bootstrap=1000,\n",
    "    confidence_level=0.95)\n",
    "\n",
    "exp1b_final = bootstrap_statistic_df(\n",
    "    df=exp1b,\n",
    "    statistic_func=lambda df: (~df['final_verdict'].isna()).mean(),\n",
    "    n_bootstrap=1000,\n",
    "    confidence_level=0.95)\n",
    "\n",
    "exp2a_final = bootstrap_statistic_df(\n",
    "    df=exp2a,\n",
    "    statistic_func=lambda df: (~df['final_verdict'].isna()).mean(),\n",
    "    n_bootstrap=1000,\n",
    "    confidence_level=0.95)\n",
    "\n",
    "exp2b_final = bootstrap_statistic_df(\n",
    "    df=exp2b,\n",
    "    statistic_func=lambda df: (~df['final_verdict'].isna()).mean(),\n",
    "    n_bootstrap=1000,\n",
    "    confidence_level=0.95)\n",
    "\n",
    "exp3a_final = bootstrap_statistic_df(\n",
    "    df=exp3a,\n",
    "    statistic_func=lambda df: (~df['final_verdict'].isna()).mean(),\n",
    "    n_bootstrap=1000,\n",
    "    confidence_level=0.95)\n",
    "\n",
    "exp3b_final = bootstrap_statistic_df(\n",
    "    df=exp3b,\n",
    "    statistic_func=lambda df: (~df['final_verdict'].isna()).mean(),\n",
    "    n_bootstrap=1000,\n",
    "    confidence_level=0.95)"
   ]
  },
  {
   "cell_type": "code",
   "execution_count": 7,
   "id": "7e443b1a",
   "metadata": {},
   "outputs": [],
   "source": [
    "exp1a_agent1 = bootstrap_statistic_df(\n",
    "    df=exp1a,\n",
    "    statistic_func=lambda df: change_of_minds(df['Agent_1_verdicts'], mean=True),\n",
    "    n_bootstrap=1000,\n",
    "    confidence_level=0.95)\n",
    "\n",
    "exp1b_agent1 = bootstrap_statistic_df(\n",
    "    df=exp1b,\n",
    "    statistic_func=lambda df: change_of_minds(df['Agent_1_verdicts'], mean=True),\n",
    "    n_bootstrap=1000,\n",
    "    confidence_level=0.95)\n",
    "\n",
    "exp1a_agent2 = bootstrap_statistic_df(\n",
    "    df=exp1a,\n",
    "    statistic_func=lambda df: change_of_minds(df['Agent_2_verdicts'], mean=True),\n",
    "    n_bootstrap=1000,\n",
    "    confidence_level=0.95)\n",
    "\n",
    "exp1b_agent2 = bootstrap_statistic_df(\n",
    "    df=exp1b,\n",
    "    statistic_func=lambda df: change_of_minds(df['Agent_2_verdicts'], mean=True),\n",
    "    n_bootstrap=1000,\n",
    "    confidence_level=0.95)\n",
    "\n",
    "exp2a_agent1 = bootstrap_statistic_df(\n",
    "    df=exp2a,\n",
    "    statistic_func=lambda df: change_of_minds(df['Agent_1_verdicts'], mean=True),\n",
    "    n_bootstrap=1000,\n",
    "    confidence_level=0.95)\n",
    "\n",
    "exp2b_agent1 = bootstrap_statistic_df(\n",
    "    df=exp2b,\n",
    "    statistic_func=lambda df: change_of_minds(df['Agent_1_verdicts'], mean=True),\n",
    "    n_bootstrap=1000,\n",
    "    confidence_level=0.95)\n",
    "\n",
    "exp2a_agent2 = bootstrap_statistic_df(\n",
    "    df=exp2a,\n",
    "    statistic_func=lambda df: change_of_minds(df['Agent_2_verdicts'], mean=True),\n",
    "    n_bootstrap=1000,\n",
    "    confidence_level=0.95)\n",
    "\n",
    "exp2b_agent2 = bootstrap_statistic_df(\n",
    "    df=exp2b,\n",
    "    statistic_func=lambda df: change_of_minds(df['Agent_2_verdicts'], mean=True),\n",
    "    n_bootstrap=1000,\n",
    "    confidence_level=0.95)\n",
    "\n",
    "exp3a_agent1 = bootstrap_statistic_df(\n",
    "    df=exp3a,\n",
    "    statistic_func=lambda df: change_of_minds(df['Agent_1_verdicts'], mean=True),\n",
    "    n_bootstrap=1000,\n",
    "    confidence_level=0.95)\n",
    "\n",
    "exp3b_agent1 = bootstrap_statistic_df(\n",
    "    df=exp3b,\n",
    "    statistic_func=lambda df: change_of_minds(df['Agent_1_verdicts'], mean=True),\n",
    "    n_bootstrap=1000,\n",
    "    confidence_level=0.95)\n",
    "\n",
    "exp3a_agent2 = bootstrap_statistic_df(\n",
    "    df=exp3a,\n",
    "    statistic_func=lambda df: change_of_minds(df['Agent_2_verdicts'], mean=True),\n",
    "    n_bootstrap=1000,\n",
    "    confidence_level=0.95)\n",
    "\n",
    "exp3b_agent2 = bootstrap_statistic_df(\n",
    "    df=exp3b,\n",
    "    statistic_func=lambda df: change_of_minds(df['Agent_2_verdicts'], mean=True),\n",
    "    n_bootstrap=1000,\n",
    "    confidence_level=0.95)"
   ]
  },
  {
   "cell_type": "code",
   "execution_count": 8,
   "id": "3e3ee3bc",
   "metadata": {},
   "outputs": [
    {
     "data": {
      "text/plain": [
       "(np.float64(-2.091286575709463), np.float64(0.036502382469764325))"
      ]
     },
     "execution_count": 8,
     "metadata": {},
     "output_type": "execute_result"
    }
   ],
   "source": [
    "proportions_ztest(\n",
    "    [1000 * exp1a_agent1['original'], 1000 * exp1b_agent1['original']],\n",
    "    1000)"
   ]
  },
  {
   "cell_type": "code",
   "execution_count": 9,
   "id": "6e56df3b",
   "metadata": {},
   "outputs": [
    {
     "data": {
      "text/plain": [
       "(np.float64(-11.486415511931533), np.float64(1.5438586341258666e-30))"
      ]
     },
     "execution_count": 9,
     "metadata": {},
     "output_type": "execute_result"
    }
   ],
   "source": [
    "proportions_ztest(\n",
    "    [1000 * exp1a_agent2['original'], 1000 * exp1b_agent2['original']],\n",
    "    1000)"
   ]
  },
  {
   "cell_type": "code",
   "execution_count": 10,
   "id": "00f68da1",
   "metadata": {},
   "outputs": [
    {
     "data": {
      "text/plain": [
       "(np.float64(-5.181635751122224), np.float64(2.1994842200110781e-07))"
      ]
     },
     "execution_count": 10,
     "metadata": {},
     "output_type": "execute_result"
    }
   ],
   "source": [
    "proportions_ztest(\n",
    "    [1000 * exp2a_agent1['original'], 1000 * exp2b_agent1['original']],\n",
    "    1000)"
   ]
  },
  {
   "cell_type": "code",
   "execution_count": 11,
   "id": "71dce8e8",
   "metadata": {},
   "outputs": [
    {
     "data": {
      "text/plain": [
       "(np.float64(-2.4581135179577824), np.float64(0.013966901791219115))"
      ]
     },
     "execution_count": 11,
     "metadata": {},
     "output_type": "execute_result"
    }
   ],
   "source": [
    "proportions_ztest(\n",
    "    [1000 * exp2a_agent2['original'], 1000 * exp2b_agent2['original']],\n",
    "    1000)"
   ]
  },
  {
   "cell_type": "code",
   "execution_count": 12,
   "id": "63b64a61",
   "metadata": {},
   "outputs": [
    {
     "data": {
      "text/plain": [
       "(np.float64(-10.223166183578364), np.float64(1.5615543555810363e-24))"
      ]
     },
     "execution_count": 12,
     "metadata": {},
     "output_type": "execute_result"
    }
   ],
   "source": [
    "proportions_ztest(\n",
    "    [1000 * exp3a_agent1['original'], 1000 * exp3b_agent1['original']],\n",
    "    1000)"
   ]
  },
  {
   "cell_type": "code",
   "execution_count": 13,
   "id": "07c48ccd",
   "metadata": {},
   "outputs": [
    {
     "data": {
      "text/plain": [
       "(np.float64(-1.0408459939926649), np.float64(0.2979470298236383))"
      ]
     },
     "execution_count": 13,
     "metadata": {},
     "output_type": "execute_result"
    }
   ],
   "source": [
    "proportions_ztest(\n",
    "    [1000 * exp3a_agent2['original'], 1000 * exp3b_agent2['original']],\n",
    "    1000)"
   ]
  },
  {
   "cell_type": "code",
   "execution_count": 8,
   "id": "724cc5b4",
   "metadata": {},
   "outputs": [
    {
     "data": {
      "image/png": "[encoded data removed]",
      "text/plain": [
       "<Figure size 600x300 with 3 Axes>"
      ]
     },
     "metadata": {},
     "output_type": "display_data"
    }
   ],
   "source": [
    "fig, axes = plt.subplots(1, 3, figsize=(6, 3), sharey=True)\n",
    "plt.subplots_adjust(wspace=0.25)\n",
    "\n",
    "SHIFT = 0.05\n",
    "\n",
    "axes[0].errorbar(\n",
    "    x=[0, 1],\n",
    "    y=[exp1a_agent1['original'], exp1b_agent1['original']],\n",
    "    yerr=[[exp1a_agent1['lower_err'], exp1b_agent1['lower_err']],\n",
    "          [exp1a_agent1['upper_err'], exp1b_agent1['upper_err']]],\n",
    "    fmt='o-',\n",
    "    capsize=3,\n",
    "    markersize=5,\n",
    "    color='C0',\n",
    "    markeredgecolor='black',\n",
    "    markeredgewidth=0.25\n",
    ")\n",
    "\n",
    "axes[0].errorbar(\n",
    "    x=[0, 1],\n",
    "    y=[exp1a_agent2['original'], exp1b_agent2['original']],\n",
    "    yerr=[[exp1a_agent2['lower_err'], exp1b_agent2['lower_err']],\n",
    "          [exp1a_agent2['upper_err'], exp1b_agent2['upper_err']]],\n",
    "    fmt='o-',\n",
    "    capsize=3,\n",
    "    markersize=5,\n",
    "    color='C1',\n",
    "    markeredgecolor='black',\n",
    "    markeredgewidth=0.5\n",
    ")\n",
    "\n",
    "axes[1].errorbar(\n",
    "    x=[0 - SHIFT, 1 - SHIFT],\n",
    "    y=[exp2a_agent1['original'], exp2b_agent1['original']],\n",
    "    yerr=[[exp2a_agent1['lower_err'], exp2b_agent1['lower_err']],\n",
    "          [exp2a_agent1['upper_err'], exp2b_agent1['upper_err']]],\n",
    "    fmt='o-',\n",
    "    capsize=3,\n",
    "    markersize=5,\n",
    "    color='C0',\n",
    "    markeredgecolor='black',\n",
    "    markeredgewidth=0.25\n",
    ")\n",
    "\n",
    "axes[1].errorbar(\n",
    "    x=[0 + SHIFT, 1 + SHIFT],\n",
    "    y=[exp2a_agent2['original'], exp2b_agent2['original']],\n",
    "    yerr=[[exp2a_agent2['lower_err'], exp2b_agent2['lower_err']],\n",
    "          [exp2a_agent2['upper_err'], exp2b_agent2['upper_err']]],\n",
    "    fmt='o-',\n",
    "    capsize=3,\n",
    "    markersize=5,\n",
    "    color='C2',\n",
    "    markeredgecolor='black',\n",
    "    markeredgewidth=0.5\n",
    ")\n",
    "\n",
    "axes[2].errorbar(\n",
    "    x=[0, 1],\n",
    "    y=[exp3a_agent1['original'], exp3b_agent1['original']],\n",
    "    yerr=[[exp3a_agent1['lower_err'], exp3b_agent1['lower_err']],\n",
    "          [exp3a_agent1['upper_err'], exp3b_agent1['upper_err']]],\n",
    "    fmt='o-',\n",
    "    capsize=3,\n",
    "    markersize=5,\n",
    "    color='C1',\n",
    "    markeredgecolor='black',\n",
    "    markeredgewidth=0.25\n",
    ")\n",
    "\n",
    "axes[2].errorbar(\n",
    "    x=[0, 1],\n",
    "    y=[exp3a_agent2['original'], exp3b_agent2['original']],\n",
    "    yerr=[[exp3a_agent2['lower_err'], exp3b_agent2['lower_err']],\n",
    "          [exp3a_agent2['upper_err'], exp3b_agent2['upper_err']]],\n",
    "    fmt='o-',\n",
    "    capsize=3,\n",
    "    markersize=5,\n",
    "    color='C2',\n",
    "    markeredgecolor='black',\n",
    "    markeredgewidth=0.5\n",
    ")\n",
    "\n",
    "axes[2].scatter([], [], color='C0', s=25, label=bold_text('Claude'))\n",
    "axes[2].scatter([], [], color='C1', s=25, label=bold_text('GPT'))\n",
    "axes[2].scatter([], [], color='C2', s=25, label=bold_text('Gemini'))\n",
    "\n",
    "\n",
    "axes[2].legend(\n",
    "    loc='center left',\n",
    "    bbox_to_anchor=(1.05, 0.5),\n",
    "    handlelength=1.,\n",
    "    handletextpad=0.3,\n",
    "    borderaxespad=0.2,\n",
    "    labelspacing=0.5\n",
    ")\n",
    "\n",
    "add_significance_bracket_inplot(\n",
    "   ax=axes[0],\n",
    "   x1=0,\n",
    "   x2=1,\n",
    "   y=0.225,\n",
    "   direction='up',\n",
    "   color='C1',\n",
    "   h=0.005,\n",
    "   text_offset=-0.01,\n",
    "   fontsize=10,\n",
    "   label=bold_text('***'))\n",
    "\n",
    "add_significance_bracket_inplot(\n",
    "   ax=axes[0],\n",
    "   x1=0,\n",
    "   x2=1,\n",
    "   y=0.365,\n",
    "   direction='up',\n",
    "   color='C0',\n",
    "   h=0.005,\n",
    "   text_offset=-0.01,\n",
    "   fontsize=10,\n",
    "   label=bold_text('*'))\n",
    "\n",
    "\n",
    "add_significance_bracket_inplot(\n",
    "   ax=axes[1],\n",
    "   x1=0 - SHIFT,\n",
    "   x2=1 - SHIFT,\n",
    "   y=0.30,\n",
    "   direction='down',\n",
    "   color='C0',\n",
    "   h=0.005,\n",
    "   text_offset=0.009,\n",
    "   fontsize=10,\n",
    "   label=bold_text('***'))\n",
    "\n",
    "\n",
    "add_significance_bracket_inplot(\n",
    "   ax=axes[1],\n",
    "   x1=0 + SHIFT,\n",
    "   x2=1 + SHIFT,\n",
    "   y=0.25,\n",
    "   direction='down',\n",
    "   color='C2',\n",
    "   h=0.005,\n",
    "   text_offset=0.009,\n",
    "   fontsize=10,\n",
    "   label=bold_text('*'))\n",
    "\n",
    "\n",
    "add_significance_bracket_inplot(\n",
    "   ax=axes[2],\n",
    "   x1=0,\n",
    "   x2=1,\n",
    "   y=0.37,\n",
    "   direction='down',\n",
    "   color='C2',\n",
    "   h=0.005,\n",
    "   text_offset=0.009,\n",
    "   fontsize=10,\n",
    "   label=bold_text('n.s.'))\n",
    "\n",
    "\n",
    "add_significance_bracket_inplot(\n",
    "   ax=axes[2],\n",
    "   x1=0,\n",
    "   x2=1,\n",
    "   y=0.14,\n",
    "   direction='up',\n",
    "   color='C1',\n",
    "   h=0.005,\n",
    "   text_offset=-0.01,\n",
    "   fontsize=10,\n",
    "   label=bold_text('***'))\n",
    "\n",
    "axes[0].set_title(bold_text('Claude vs. GPT'), fontsize=11)\n",
    "axes[1].set_title(bold_text('Claude vs. Gemini'), fontsize=11)\n",
    "axes[2].set_title(bold_text('Gemini vs. GPT'), fontsize=11)\n",
    "\n",
    "for ax in axes:\n",
    "    ax.grid(True, axis='y', color='0.8', linewidth=0.8)\n",
    "    ax.set_axisbelow(True)\n",
    "    ax.set_facecolor('0.96')\n",
    "    ax.set_ylim([0, 0.5])\n",
    "    ax.set_xlim([-0.25, 1.25])\n",
    "    ax.set_xticks([0, 1])\n",
    "    ax.set_xticklabels(bold_text(['Original\\nPrompt', 'Balanced\\nPrompt']))\n",
    "\n",
    "axes[0].set_ylabel(bold_text('Change-of-Verdict Rate'), fontsize=11)\n",
    "\n",
    "plt.savefig('figure_system_prompt.pdf', bbox_inches='tight')"
   ]
  }
 ],
 "metadata": {
  "kernelspec": {
   "display_name": "llm_deliberation_values",
   "language": "python",
   "name": "python3"
  },
  "language_info": {
   "codemirror_mode": {
    "name": "ipython",
    "version": 3
   },
   "file_extension": ".py",
   "mimetype": "text/x-python",
   "name": "python",
   "nbconvert_exporter": "python",
   "pygments_lexer": "ipython3",
   "version": "3.10.18"
  }
 },
 "nbformat": 4,
 "nbformat_minor": 5
}
