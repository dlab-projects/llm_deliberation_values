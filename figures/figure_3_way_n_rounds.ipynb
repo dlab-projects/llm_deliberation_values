{
 "cells": [
  {
   "cell_type": "code",
   "execution_count": null,
   "id": "242fb1cb",
   "metadata": {},
   "outputs": [],
   "source": [
    "import torch\n",
    "import numpy as np\n",
    "import matplotlib.pyplot as plt\n",
    "import pandas as pd\n",
    "\n",
    "import pickle\n",
    "from pyprojroot import here\n",
    "from mpl_lego.style import use_latex_style\n",
    "from mpl_lego.labels import bold_text, apply_subplot_labels\n",
    "\n",
    "from llm_deliberation.multilevel import (verdict2num,\n",
    "                                         build_all_data,\n",
    "                                         fit_map_blended,\n",
    "                                         fit_map_split,\n",
    "                                         bootstrap_split)"
   ]
  },
  {
   "cell_type": "code",
   "execution_count": null,
   "id": "c14e013c",
   "metadata": {},
   "outputs": [],
   "source": [
    "use_latex_style()"
   ]
  },
  {
   "cell_type": "code",
   "execution_count": null,
   "id": "3fe46a17",
   "metadata": {},
   "outputs": [],
   "source": [
    "with open(here('data/analysis/exp1_round_robin_3way.pkl'), 'rb') as file:\n",
    "    gem_cla_gpt = pickle.load(file)\n",
    "\n",
    "with open(here('data/analysis/exp2_round_robin_3way.pkl'), 'rb') as file:\n",
    "    cla_gem_gpt = pickle.load(file)\n",
    "\n",
    "with open(here('data/analysis/exp3_round_robin_3way.pkl'), 'rb') as file:\n",
    "    gpt_cla_gem = pickle.load(file)\n",
    "\n",
    "with open(here('data/analysis/exp4_round_robin_3way.pkl'), 'rb') as file:\n",
    "    gpt_gem_cla = pickle.load(file)\n",
    "\n",
    "with open(here('data/analysis/exp5_round_robin_3way.pkl'), 'rb') as file:\n",
    "    gem_gpt_cla = pickle.load(file)\n",
    "\n",
    "with open(here('data/analysis/exp6_round_robin_3way.pkl'), 'rb') as file:\n",
    "    cla_gpt_gem = pickle.load(file)"
   ]
  },
  {
   "cell_type": "code",
   "execution_count": null,
   "id": "566f5781",
   "metadata": {},
   "outputs": [],
   "source": [
    "def rounds_to_display(df: pd.DataFrame, normalize: bool = True) -> pd.Series:\n",
    "    \"\"\"\n",
    "    Combine `n_rounds` and `final_verdict` to produce the display series:\n",
    "    1/2/3 map through unchanged, 4 resolves to 4 or 'No Consensus'.\n",
    "    \"\"\"\n",
    "    outcome = df['n_rounds'].astype('object').copy()\n",
    "    mask_four = outcome == 4\n",
    "    # treat both None and NaN as “no consensus”\n",
    "    no_consensus = df['final_verdict'].isna() | (df['final_verdict'].isna())\n",
    "    outcome[mask_four & no_consensus] = 'No Consensus'\n",
    "    counts = outcome.value_counts(normalize=normalize)\n",
    "    if 'No Consensus' not in counts:\n",
    "        counts['No Consensus'] = 0\n",
    "    return counts.loc[[1, 2, 3, 4, 'No Consensus']]"
   ]
  },
  {
   "cell_type": "code",
   "execution_count": null,
   "id": "e8fdc38f",
   "metadata": {},
   "outputs": [],
   "source": [
    "fig, axes = plt.subplots(2, 3, figsize=(8, 4), sharex=True, sharey=True)\n",
    "plt.subplots_adjust(hspace=0.6)\n",
    "axes_list = axes.ravel()\n",
    "\n",
    "LABELS = {'gpt': 'GPT', 'cla': 'Claude', 'gem': 'Gemini'}\n",
    "exp_and_titles = [\n",
    "        (gpt_cla_gem, '(1) GPT\\n(2) Claude\\n(3) Gemini'),\n",
    "        (cla_gpt_gem, '(1) Claude\\n(2) GPT\\n(3) Gemini'),\n",
    "        (gem_gpt_cla, '(1) Gemini\\n(2) GPT\\n(3) Claude'),\n",
    "        (gpt_gem_cla, '(1) GPT\\n(2) Gemini\\n(3) Claude'),\n",
    "        (cla_gem_gpt, '(1) Claude\\n(2) Gemini\\n(3) GPT'),\n",
    "        (gem_cla_gpt, '(1) Gemini\\n(2) Claude\\n(3) GPT'),\n",
    "    ]\n",
    "\n",
    "for ax, (exp, title) in zip(axes_list, exp_and_titles):\n",
    "    rounds_to_display(exp).plot(ax=ax, kind='bar', color='slategray', edgecolor='black')\n",
    "    ax.tick_params(axis='x', rotation=0)\n",
    "    ax.set_xticklabels(['1', '2', '3', '4', 'No\\nConsensus'])\n",
    "    ax.set_ylim([0, 1])\n",
    "    ax.grid('on', axis='y')\n",
    "    ax.set_axisbelow(True)\n",
    "    ax.set_title(bold_text(title), fontsize=10)\n",
    "\n",
    "for ax in axes[1]:\n",
    "    ax.set_xlabel(bold_text('Number of Rounds'))\n",
    "for ax in axes[:, 0]:\n",
    "    ax.set_ylabel(bold_text('Fraction of Dilemmas'))\n",
    "\n",
    "apply_subplot_labels(axes, x=-0.05, y=1.13, size=13, bold=True)\n",
    "plt.savefig('figure_n_rounds_3way.pdf', bbox_inches='tight')"
   ]
  }
 ],
 "metadata": {
  "kernelspec": {
   "display_name": "llm_deliberation_values",
   "language": "python",
   "name": "python3"
  },
  "language_info": {
   "codemirror_mode": {
    "name": "ipython",
    "version": 3
   },
   "file_extension": ".py",
   "mimetype": "text/x-python",
   "name": "python",
   "nbconvert_exporter": "python",
   "pygments_lexer": "ipython3",
   "version": "3.10.18"
  }
 },
 "nbformat": 4,
 "nbformat_minor": 5
}
