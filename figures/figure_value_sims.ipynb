{
 "cells": [
  {
   "cell_type": "code",
   "execution_count": 1,
   "id": "a60151ca",
   "metadata": {},
   "outputs": [],
   "source": [
    "import matplotlib.pyplot as plt\n",
    "import numpy as np\n",
    "import os\n",
    "import pandas as pd\n",
    "import pickle\n",
    "\n",
    "from matplotlib.gridspec import GridSpec\n",
    "from llm_deliberation.utils import bootstrap_statistic_df, jaccard\n",
    "from scipy.stats import mannwhitneyu\n",
    "\n",
    "from pyprojroot import here\n",
    "from mpl_lego.labels import bold_text, add_significance_bracket_inplot, apply_subplot_labels\n",
    "from mpl_lego.style import use_latex_style"
   ]
  },
  {
   "cell_type": "code",
   "execution_count": 2,
   "id": "f6bd707d",
   "metadata": {},
   "outputs": [],
   "source": [
    "use_latex_style()"
   ]
  },
  {
   "cell_type": "code",
   "execution_count": 3,
   "id": "54b76ba7",
   "metadata": {},
   "outputs": [],
   "source": [
    "with open(here('data/analysis/exp1_sync_h2h.pkl'), 'rb') as file:\n",
    "    exp1 = pickle.load(file)\n",
    "\n",
    "with open(here('data/analysis/exp5_sync_h2h.pkl'), 'rb') as file:\n",
    "    exp2 = pickle.load(file)\n",
    "\n",
    "with open(here('data/analysis/exp6_sync_h2h.pkl'), 'rb') as file:\n",
    "    exp3 = pickle.load(file)"
   ]
  },
  {
   "cell_type": "code",
   "execution_count": 4,
   "id": "a0fed8ef",
   "metadata": {},
   "outputs": [],
   "source": [
    "exp1_expl = exp1.explode(['Agent_1_verdicts', 'Agent_2_verdicts', 'Agent_1_values', 'Agent_2_values']).reset_index()\n",
    "exp2_expl = exp2.explode(['Agent_1_verdicts', 'Agent_2_verdicts', 'Agent_1_values', 'Agent_2_values']).reset_index()\n",
    "exp3_expl = exp3.explode(['Agent_1_verdicts', 'Agent_2_verdicts', 'Agent_1_values', 'Agent_2_values']).reset_index()"
   ]
  },
  {
   "cell_type": "code",
   "execution_count": 5,
   "id": "3f44a302",
   "metadata": {},
   "outputs": [],
   "source": [
    "exp1_agree_mask = exp1_expl['Agent_1_verdicts'] == exp1_expl['Agent_2_verdicts']\n",
    "exp1_disagree_mask = exp1_expl['Agent_1_verdicts'] != exp1_expl['Agent_2_verdicts']\n",
    "\n",
    "exp1_agree_sim = bootstrap_statistic_df(\n",
    "    df=exp1_expl[exp1_agree_mask],\n",
    "    statistic_func=lambda df: df.apply(lambda x: jaccard(x['Agent_1_values'], x['Agent_2_values']), axis=1).mean(),\n",
    "    n_bootstrap=1000,\n",
    "    confidence_level=0.95,\n",
    "    random_state=2332)\n",
    "\n",
    "exp1_disagree_sim = bootstrap_statistic_df(\n",
    "    df=exp1_expl[exp1_disagree_mask],\n",
    "    statistic_func=lambda df: df.apply(lambda x: jaccard(x['Agent_1_values'], x['Agent_2_values']), axis=1).mean(),\n",
    "    n_bootstrap=1000,\n",
    "    confidence_level=0.95,\n",
    "    random_state=2332)"
   ]
  },
  {
   "cell_type": "code",
   "execution_count": 6,
   "id": "a1a510dd",
   "metadata": {},
   "outputs": [
    {
     "data": {
      "text/plain": [
       "MannwhitneyuResult(statistic=np.float64(454628.0), pvalue=np.float64(2.691385035682935e-53))"
      ]
     },
     "execution_count": 6,
     "metadata": {},
     "output_type": "execute_result"
    }
   ],
   "source": [
    "mannwhitneyu(\n",
    "    exp1_expl[exp1_agree_mask].apply(lambda x: jaccard(x['Agent_1_values'], x['Agent_2_values']), axis=1),\n",
    "    exp1_expl[exp1_disagree_mask].apply(lambda x: jaccard(x['Agent_1_values'], x['Agent_2_values']), axis=1))"
   ]
  },
  {
   "cell_type": "code",
   "execution_count": 7,
   "id": "cd52c6d8",
   "metadata": {},
   "outputs": [],
   "source": [
    "exp1_initial_disagreement_consensus = (exp1['n_rounds'] > 1) & (~exp1['final_verdict'].isna())\n",
    "exp1_initial_disagreement_no_consensus = (exp1['n_rounds'] > 1) & (exp1['final_verdict'].isna())\n",
    "\n",
    "exp1_sim_consensus_beginning = bootstrap_statistic_df(\n",
    "    df=exp1[exp1_initial_disagreement_consensus],\n",
    "    statistic_func=lambda df: df.apply(lambda x: jaccard(x['Agent_1_values'][0], x['Agent_2_values'][0]), axis=1).mean(),\n",
    "    n_bootstrap=1000,\n",
    "    confidence_level=0.95,\n",
    "    random_state=2332)\n",
    "\n",
    "exp1_sim_consensus_end = bootstrap_statistic_df(\n",
    "    df=exp1[exp1_initial_disagreement_consensus],\n",
    "    statistic_func=lambda df: df.apply(lambda x: jaccard(x['Agent_1_values'][-1], x['Agent_2_values'][-1]), axis=1).mean(),\n",
    "    n_bootstrap=1000,\n",
    "    confidence_level=0.95,\n",
    "    random_state=2332)\n",
    "\n",
    "exp1_sim_no_consensus_beginning = bootstrap_statistic_df(\n",
    "    df=exp1[exp1_initial_disagreement_no_consensus],\n",
    "    statistic_func=lambda df: df.apply(lambda x: jaccard(x['Agent_1_values'][0], x['Agent_2_values'][0]), axis=1).mean(),\n",
    "    n_bootstrap=1000,\n",
    "    confidence_level=0.95,\n",
    "    random_state=2332)\n",
    "\n",
    "exp1_sim_no_consensus_end = bootstrap_statistic_df(\n",
    "    df=exp1[exp1_initial_disagreement_no_consensus],\n",
    "    statistic_func=lambda df: df.apply(lambda x: jaccard(x['Agent_1_values'][-1], x['Agent_2_values'][-1]), axis=1).mean(),\n",
    "    n_bootstrap=1000,\n",
    "    confidence_level=0.95,\n",
    "    random_state=2332)"
   ]
  },
  {
   "cell_type": "code",
   "execution_count": 8,
   "id": "b8a68bff",
   "metadata": {},
   "outputs": [
    {
     "data": {
      "text/plain": [
       "MannwhitneyuResult(statistic=np.float64(20191.0), pvalue=np.float64(2.234574273160997e-10))"
      ]
     },
     "execution_count": 8,
     "metadata": {},
     "output_type": "execute_result"
    }
   ],
   "source": [
    "mannwhitneyu(\n",
    "    exp1[exp1_initial_disagreement_consensus].apply(lambda x: jaccard(x['Agent_1_values'][0], x['Agent_2_values'][0]), axis=1),\n",
    "    exp1[exp1_initial_disagreement_consensus].apply(lambda x: jaccard(x['Agent_1_values'][-1], x['Agent_2_values'][-1]), axis=1))"
   ]
  },
  {
   "cell_type": "code",
   "execution_count": 9,
   "id": "58143f15",
   "metadata": {},
   "outputs": [
    {
     "data": {
      "text/plain": [
       "MannwhitneyuResult(statistic=np.float64(4096.5), pvalue=np.float64(0.3840205545226345))"
      ]
     },
     "execution_count": 9,
     "metadata": {},
     "output_type": "execute_result"
    }
   ],
   "source": [
    "mannwhitneyu(\n",
    "    exp1[exp1_initial_disagreement_no_consensus].apply(lambda x: jaccard(x['Agent_1_values'][0], x['Agent_2_values'][0]), axis=1),\n",
    "    exp1[exp1_initial_disagreement_no_consensus].apply(lambda x: jaccard(x['Agent_1_values'][-1], x['Agent_2_values'][-1]), axis=1))"
   ]
  },
  {
   "cell_type": "code",
   "execution_count": 10,
   "id": "d9471bfc",
   "metadata": {},
   "outputs": [],
   "source": [
    "exp2_agree_mask = exp2_expl['Agent_1_verdicts'] == exp2_expl['Agent_2_verdicts']\n",
    "exp2_disagree_mask = exp2_expl['Agent_1_verdicts'] != exp2_expl['Agent_2_verdicts']\n",
    "\n",
    "exp2_agree_sim = bootstrap_statistic_df(\n",
    "    df=exp2_expl[exp2_agree_mask],\n",
    "    statistic_func=lambda df: df.apply(lambda x: jaccard(x['Agent_1_values'], x['Agent_2_values']), axis=1).mean(),\n",
    "    n_bootstrap=1000,\n",
    "    confidence_level=0.95,\n",
    "    random_state=2332)\n",
    "\n",
    "exp2_disagree_sim = bootstrap_statistic_df(\n",
    "    df=exp2_expl[exp2_disagree_mask],\n",
    "    statistic_func=lambda df: df.apply(lambda x: jaccard(x['Agent_1_values'], x['Agent_2_values']), axis=1).mean(),\n",
    "    n_bootstrap=1000,\n",
    "    confidence_level=0.95,\n",
    "    random_state=2332)"
   ]
  },
  {
   "cell_type": "code",
   "execution_count": 11,
   "id": "811e2dbc",
   "metadata": {},
   "outputs": [
    {
     "data": {
      "text/plain": [
       "MannwhitneyuResult(statistic=np.float64(726917.0), pvalue=np.float64(2.9319909871797824e-57))"
      ]
     },
     "execution_count": 11,
     "metadata": {},
     "output_type": "execute_result"
    }
   ],
   "source": [
    "mannwhitneyu(\n",
    "    exp2_expl[exp2_agree_mask].apply(lambda x: jaccard(x['Agent_1_values'], x['Agent_2_values']), axis=1),\n",
    "    exp2_expl[exp2_disagree_mask].apply(lambda x: jaccard(x['Agent_1_values'], x['Agent_2_values']), axis=1))"
   ]
  },
  {
   "cell_type": "code",
   "execution_count": 12,
   "id": "908beb10",
   "metadata": {},
   "outputs": [],
   "source": [
    "exp2_initial_disagreement_consensus = (exp2['n_rounds'] > 1) & (~exp2['final_verdict'].isna())\n",
    "exp2_initial_disagreement_no_consensus = (exp2['n_rounds'] > 1) & (exp2['final_verdict'].isna())\n",
    "\n",
    "exp2_sim_consensus_beginning = bootstrap_statistic_df(\n",
    "    df=exp2[exp2_initial_disagreement_consensus],\n",
    "    statistic_func=lambda df: df.apply(lambda x: jaccard(x['Agent_1_values'][0], x['Agent_2_values'][0]), axis=1).mean(),\n",
    "    n_bootstrap=1000,\n",
    "    confidence_level=0.95,\n",
    "    random_state=2332)\n",
    "\n",
    "exp2_sim_consensus_end = bootstrap_statistic_df(\n",
    "    df=exp2[exp2_initial_disagreement_consensus],\n",
    "    statistic_func=lambda df: df.apply(lambda x: jaccard(x['Agent_1_values'][-1], x['Agent_2_values'][-1]), axis=1).mean(),\n",
    "    n_bootstrap=1000,\n",
    "    confidence_level=0.95,\n",
    "    random_state=2332)\n",
    "\n",
    "exp2_sim_no_consensus_beginning = bootstrap_statistic_df(\n",
    "    df=exp2[exp2_initial_disagreement_no_consensus],\n",
    "    statistic_func=lambda df: df.apply(lambda x: jaccard(x['Agent_1_values'][0], x['Agent_2_values'][0]), axis=1).mean(),\n",
    "    n_bootstrap=1000,\n",
    "    confidence_level=0.95,\n",
    "    random_state=2332)\n",
    "\n",
    "exp2_sim_no_consensus_end = bootstrap_statistic_df(\n",
    "    df=exp2[exp2_initial_disagreement_no_consensus],\n",
    "    statistic_func=lambda df: df.apply(lambda x: jaccard(x['Agent_1_values'][-1], x['Agent_2_values'][-1]), axis=1).mean(),\n",
    "    n_bootstrap=1000,\n",
    "    confidence_level=0.95,\n",
    "    random_state=2332)"
   ]
  },
  {
   "cell_type": "code",
   "execution_count": 13,
   "id": "80f08c99",
   "metadata": {},
   "outputs": [
    {
     "data": {
      "text/plain": [
       "MannwhitneyuResult(statistic=np.float64(39263.0), pvalue=np.float64(8.466046395667788e-30))"
      ]
     },
     "execution_count": 13,
     "metadata": {},
     "output_type": "execute_result"
    }
   ],
   "source": [
    "mannwhitneyu(\n",
    "    exp2[exp2_initial_disagreement_consensus].apply(lambda x: jaccard(x['Agent_1_values'][0], x['Agent_2_values'][0]), axis=1),\n",
    "    exp2[exp2_initial_disagreement_consensus].apply(lambda x: jaccard(x['Agent_1_values'][-1], x['Agent_2_values'][-1]), axis=1))"
   ]
  },
  {
   "cell_type": "code",
   "execution_count": 14,
   "id": "e5ec9def",
   "metadata": {},
   "outputs": [
    {
     "data": {
      "text/plain": [
       "MannwhitneyuResult(statistic=np.float64(5889.0), pvalue=np.float64(0.1502184620450732))"
      ]
     },
     "execution_count": 14,
     "metadata": {},
     "output_type": "execute_result"
    }
   ],
   "source": [
    "mannwhitneyu(\n",
    "    exp2[exp2_initial_disagreement_no_consensus].apply(lambda x: jaccard(x['Agent_1_values'][0], x['Agent_2_values'][0]), axis=1),\n",
    "    exp2[exp2_initial_disagreement_no_consensus].apply(lambda x: jaccard(x['Agent_1_values'][-1], x['Agent_2_values'][-1]), axis=1))"
   ]
  },
  {
   "cell_type": "code",
   "execution_count": 15,
   "id": "0a135de0",
   "metadata": {},
   "outputs": [],
   "source": [
    "exp3_agree_mask = exp3_expl['Agent_1_verdicts'] == exp3_expl['Agent_2_verdicts']\n",
    "exp3_disagree_mask = exp3_expl['Agent_1_verdicts'] != exp3_expl['Agent_2_verdicts']\n",
    "\n",
    "exp3_agree_sim = bootstrap_statistic_df(\n",
    "    df=exp3_expl[exp3_agree_mask],\n",
    "    statistic_func=lambda df: df.apply(lambda x: jaccard(x['Agent_1_values'], x['Agent_2_values']), axis=1).mean(),\n",
    "    n_bootstrap=1000,\n",
    "    confidence_level=0.95,\n",
    "    random_state=2332)\n",
    "\n",
    "exp3_disagree_sim = bootstrap_statistic_df(\n",
    "    df=exp3_expl[exp3_disagree_mask],\n",
    "    statistic_func=lambda df: df.apply(lambda x: jaccard(x['Agent_1_values'], x['Agent_2_values']), axis=1).mean(),\n",
    "    n_bootstrap=1000,\n",
    "    confidence_level=0.95,\n",
    "    random_state=2332)"
   ]
  },
  {
   "cell_type": "code",
   "execution_count": 16,
   "id": "ded03225",
   "metadata": {},
   "outputs": [
    {
     "data": {
      "text/plain": [
       "MannwhitneyuResult(statistic=np.float64(732807.0), pvalue=np.float64(9.641832082677064e-63))"
      ]
     },
     "execution_count": 16,
     "metadata": {},
     "output_type": "execute_result"
    }
   ],
   "source": [
    "mannwhitneyu(\n",
    "    exp3_expl[exp3_agree_mask].apply(lambda x: jaccard(x['Agent_1_values'], x['Agent_2_values']), axis=1),\n",
    "    exp3_expl[exp3_disagree_mask].apply(lambda x: jaccard(x['Agent_1_values'], x['Agent_2_values']), axis=1))"
   ]
  },
  {
   "cell_type": "code",
   "execution_count": 17,
   "id": "ce01812d",
   "metadata": {},
   "outputs": [],
   "source": [
    "exp3_initial_disagreement_consensus = (exp3['n_rounds'] > 1) & (~exp3['final_verdict'].isna())\n",
    "exp3_initial_disagreement_no_consensus = (exp3['n_rounds'] > 1) & (exp3['final_verdict'].isna())\n",
    "\n",
    "exp3_sim_consensus_beginning = bootstrap_statistic_df(\n",
    "    df=exp3[exp3_initial_disagreement_consensus],\n",
    "    statistic_func=lambda df: df.apply(lambda x: jaccard(x['Agent_1_values'][0], x['Agent_2_values'][0]), axis=1).mean(),\n",
    "    n_bootstrap=1000,\n",
    "    confidence_level=0.95,\n",
    "    random_state=2332)\n",
    "\n",
    "exp3_sim_consensus_end = bootstrap_statistic_df(\n",
    "    df=exp3[exp3_initial_disagreement_consensus],\n",
    "    statistic_func=lambda df: df.apply(lambda x: jaccard(x['Agent_1_values'][-1], x['Agent_2_values'][-1]), axis=1).mean(),\n",
    "    n_bootstrap=1000,\n",
    "    confidence_level=0.95,\n",
    "    random_state=2332)\n",
    "\n",
    "exp3_sim_no_consensus_beginning = bootstrap_statistic_df(\n",
    "    df=exp3[exp3_initial_disagreement_no_consensus],\n",
    "    statistic_func=lambda df: df.apply(lambda x: jaccard(x['Agent_1_values'][0], x['Agent_2_values'][0]), axis=1).mean(),\n",
    "    n_bootstrap=1000,\n",
    "    confidence_level=0.95,\n",
    "    random_state=2332)\n",
    "\n",
    "exp3_sim_no_consensus_end = bootstrap_statistic_df(\n",
    "    df=exp3[exp3_initial_disagreement_no_consensus],\n",
    "    statistic_func=lambda df: df.apply(lambda x: jaccard(x['Agent_1_values'][-1], x['Agent_2_values'][-1]), axis=1).mean(),\n",
    "    n_bootstrap=1000,\n",
    "    confidence_level=0.95,\n",
    "    random_state=2332)"
   ]
  },
  {
   "cell_type": "code",
   "execution_count": 18,
   "id": "9046f0ec",
   "metadata": {},
   "outputs": [
    {
     "name": "stdout",
     "output_type": "stream",
     "text": [
      "31.129694945780667\n",
      "6.290432162585293\n"
     ]
    }
   ],
   "source": [
    "print((exp1_sim_consensus_end['original'] - exp1_sim_consensus_beginning['original']) / exp1_sim_consensus_beginning['original'] * 100)\n",
    "print((exp1_sim_no_consensus_end['original'] - exp1_sim_no_consensus_beginning['original']) / exp1_sim_no_consensus_beginning['original'] * 100)"
   ]
  },
  {
   "cell_type": "code",
   "execution_count": 21,
   "id": "048df6e5",
   "metadata": {},
   "outputs": [
    {
     "name": "stdout",
     "output_type": "stream",
     "text": [
      "60.977326487047854\n",
      "13.13656444074526\n"
     ]
    }
   ],
   "source": [
    "print((exp2_sim_consensus_end['original'] - exp2_sim_consensus_beginning['original']) / exp2_sim_consensus_beginning['original'] * 100)\n",
    "print((exp2_sim_no_consensus_end['original'] - exp2_sim_no_consensus_beginning['original']) / exp2_sim_no_consensus_beginning['original'] * 100)"
   ]
  },
  {
   "cell_type": "code",
   "execution_count": 22,
   "id": "bf8755a3",
   "metadata": {},
   "outputs": [
    {
     "name": "stdout",
     "output_type": "stream",
     "text": [
      "52.45485636796923\n",
      "17.86328610489684\n"
     ]
    }
   ],
   "source": [
    "print((exp3_sim_consensus_end['original'] - exp3_sim_consensus_beginning['original']) / exp3_sim_consensus_beginning['original'] * 100)\n",
    "print((exp3_sim_no_consensus_end['original'] - exp3_sim_no_consensus_beginning['original']) / exp3_sim_no_consensus_beginning['original'] * 100)"
   ]
  },
  {
   "cell_type": "code",
   "execution_count": 23,
   "id": "8cccebe3",
   "metadata": {},
   "outputs": [
    {
     "data": {
      "text/plain": [
       "MannwhitneyuResult(statistic=np.float64(24316.5), pvalue=np.float64(1.1386039099732248e-18))"
      ]
     },
     "execution_count": 23,
     "metadata": {},
     "output_type": "execute_result"
    }
   ],
   "source": [
    "mannwhitneyu(\n",
    "    exp3[exp3_initial_disagreement_consensus].apply(lambda x: jaccard(x['Agent_1_values'][0], x['Agent_2_values'][0]), axis=1),\n",
    "    exp3[exp3_initial_disagreement_consensus].apply(lambda x: jaccard(x['Agent_1_values'][-1], x['Agent_2_values'][-1]), axis=1))"
   ]
  },
  {
   "cell_type": "code",
   "execution_count": 24,
   "id": "57412a64",
   "metadata": {},
   "outputs": [
    {
     "data": {
      "text/plain": [
       "MannwhitneyuResult(statistic=np.float64(12994.0), pvalue=np.float64(0.02173066671682096))"
      ]
     },
     "execution_count": 24,
     "metadata": {},
     "output_type": "execute_result"
    }
   ],
   "source": [
    "mannwhitneyu(\n",
    "    exp3[exp3_initial_disagreement_no_consensus].apply(lambda x: jaccard(x['Agent_1_values'][0], x['Agent_2_values'][0]), axis=1),\n",
    "    exp3[exp3_initial_disagreement_no_consensus].apply(lambda x: jaccard(x['Agent_1_values'][-1], x['Agent_2_values'][-1]), axis=1))"
   ]
  },
  {
   "cell_type": "code",
   "execution_count": 39,
   "id": "1f7e3ba0",
   "metadata": {},
   "outputs": [
    {
     "data": {
      "image/png": "[encoded data removed]",
      "text/plain": [
       "<Figure size 720x225 with 6 Axes>"
      ]
     },
     "metadata": {},
     "output_type": "display_data"
    }
   ],
   "source": [
    "fig = plt.figure(figsize=(7.2, 2.25))\n",
    "\n",
    "gs = GridSpec(1, 7, figure=fig,\n",
    "              width_ratios=[1, 1, 1, 0.30, 1, 1, 1],\n",
    "              wspace=0.3)\n",
    "\n",
    "axes = [fig.add_subplot(gs[0, 0])]\n",
    "axes = axes + [fig.add_subplot(gs[0, idx], sharey=axes[0]) for idx in (1, 2, 4, 5, 6)]\n",
    "\n",
    "COLORS = ['C2', 'C3', 'C4']\n",
    "exp_agrees = [exp1_agree_sim, exp2_agree_sim, exp3_agree_sim]\n",
    "exp_disagrees = [exp1_disagree_sim, exp2_disagree_sim, exp3_disagree_sim]\n",
    "\n",
    "for idx, (agree, disagree) in enumerate(zip(exp_agrees, exp_disagrees)):\n",
    "   axes[idx].errorbar(\n",
    "      x=[0, 1],\n",
    "      y=[agree['original'], disagree['original']],\n",
    "      yerr=[[agree['lower_err'], disagree['lower_err']],\n",
    "            [agree['upper_err'], disagree['upper_err']]],\n",
    "      fmt='o',\n",
    "      markersize=3,\n",
    "      capsize=3,\n",
    "      color='black')\n",
    "   axes[idx].set_ylim([0, 0.65])\n",
    "   axes[idx].set_xlim([-0.5, 1.5])\n",
    "   axes[idx].set_xticks([0, 1])\n",
    "   axes[idx].set_xticklabels(bold_text(['Consensus', 'Disagreement']), ha='right', rotation=18, fontsize=8)\n",
    "   axes[idx].grid(axis='y')\n",
    "   axes[idx].set_axisbelow(True)\n",
    "   axes[idx].set_yticks([0, 0.2, 0.4, 0.6])\n",
    "   add_significance_bracket_inplot(\n",
    "      ax=axes[idx],\n",
    "      x1=0,\n",
    "      x2=1,\n",
    "      y=0.51,\n",
    "      h=0.01,\n",
    "      label=bold_text('***'))\n",
    "\n",
    "\n",
    "axes[0].set_title(bold_text('GPT\\nvs.\\nClaude'), fontsize=9)\n",
    "axes[1].set_title(bold_text('Claude\\nvs.\\nGemini'), fontsize=9)\n",
    "axes[2].set_title(bold_text('Gemini\\nvs.\\nGPT'), fontsize=9)\n",
    "\n",
    "for ax in axes[1:]:\n",
    "    ax.tick_params(axis=\"y\", labelleft=False)\n",
    "\n",
    "axes[0].tick_params(axis=\"y\", labelleft=True, labelsize=8)\n",
    "axes[3].tick_params(axis=\"y\", labelleft=True, labelsize=8)\n",
    "axes[0].set_ylabel(bold_text('Average Value Similarity'), fontsize=9)\n",
    "axes[3].set_ylabel(bold_text('Average Value Similarity'), fontsize=9)\n",
    "\n",
    "\n",
    "exps_beginning_consensus = [exp1_sim_consensus_beginning, exp2_sim_consensus_beginning, exp3_sim_consensus_beginning]\n",
    "exps_end_consensus = [exp1_sim_consensus_end, exp2_sim_consensus_end, exp3_sim_consensus_end]\n",
    "exps_beginning_no_consensus = [exp1_sim_no_consensus_beginning, exp2_sim_no_consensus_beginning, exp3_sim_no_consensus_beginning]\n",
    "exps_end_no_consensus = [exp1_sim_no_consensus_end, exp2_sim_no_consensus_end, exp3_sim_no_consensus_end]\n",
    "\n",
    "SHIFT = 0.1\n",
    "for idx, (beginning_consensus, end_consensus, ax) in enumerate(zip(exps_beginning_consensus, exps_end_consensus, axes[3:])):\n",
    "   ax.errorbar(\n",
    "      x=[0 - SHIFT, 1 - SHIFT],\n",
    "      y=[beginning_consensus['original'], end_consensus['original']],\n",
    "      yerr=[[beginning_consensus['lower_err'], end_consensus['lower_err']],\n",
    "            [beginning_consensus['upper_err'], end_consensus['upper_err']]],\n",
    "      fmt='o-',\n",
    "      markersize=3,\n",
    "      capsize=3,\n",
    "      color='black')\n",
    "\n",
    "for idx, (beginning_no_consensus, end_no_consensus, ax) in enumerate(zip(exps_beginning_no_consensus, exps_end_no_consensus, axes[3:])):\n",
    "   ax.errorbar(\n",
    "      x=[0 + SHIFT, 1 + SHIFT],\n",
    "      y=[beginning_no_consensus['original'], end_no_consensus['original']],\n",
    "      yerr=[[beginning_no_consensus['lower_err'], end_no_consensus['lower_err']],\n",
    "            [beginning_no_consensus['upper_err'], end_no_consensus['upper_err']]],\n",
    "      fmt='o-',\n",
    "      markersize=3,\n",
    "      capsize=3,\n",
    "      zorder=10 + idx,\n",
    "      color='slategray')\n",
    "   ax.set_ylim([0, 0.65])\n",
    "   ax.set_xlim([-0.5, 1.5])\n",
    "   ax.set_xticks([0, 1])\n",
    "   ax.set_xticklabels(bold_text(['Round 1', 'Last Round']), ha='right', rotation=18, fontsize=8)\n",
    "   ax.grid(axis='y')\n",
    "   ax.set_axisbelow(True)\n",
    "   ax.set_yticks([0, 0.2, 0.4, 0.6])\n",
    "   add_significance_bracket_inplot(\n",
    "      ax=ax,\n",
    "      x1=-SHIFT,\n",
    "      x2=1-SHIFT,\n",
    "      y=0.50,\n",
    "      h=0.01,\n",
    "      label=bold_text('***'))\n",
    "\n",
    "add_significance_bracket_inplot(\n",
    "   ax=axes[3],\n",
    "   x1=SHIFT,\n",
    "   x2=1 + SHIFT,\n",
    "   y=0.23,\n",
    "   direction='down',\n",
    "   color='slategray',\n",
    "   h=0.01,\n",
    "   text_offset=0.02,\n",
    "   fontsize=10,\n",
    "   label=bold_text('n.s.'))\n",
    "add_significance_bracket_inplot(\n",
    "   ax=axes[4],\n",
    "   x1=SHIFT,\n",
    "   x2=1 + SHIFT,\n",
    "   y=0.22,\n",
    "   direction='down',\n",
    "   color='slategray',\n",
    "   h=0.01,\n",
    "   text_offset=0.02,\n",
    "   fontsize=10,\n",
    "   label=bold_text('n.s.'))\n",
    "add_significance_bracket_inplot(\n",
    "   ax=axes[5],\n",
    "   x1=SHIFT,\n",
    "   x2=1 + SHIFT,\n",
    "   y=0.18,\n",
    "   direction='down',\n",
    "   color='slategray',\n",
    "   h=0.01,\n",
    "   text_offset=0.02,\n",
    "   fontsize=10,\n",
    "   label=bold_text('*'))\n",
    "axes[4].plot([], [], color='black', label=bold_text('Consensus'))\n",
    "axes[4].plot([], [], color='slategray', label=bold_text('No Consensus'))\n",
    "fig.legend(loc='center', bbox_to_anchor=(1, 0.50), framealpha=1, prop={'size': 7.5})\n",
    "axes[3].set_title(bold_text('GPT\\nvs.\\nClaude'), fontsize=9)\n",
    "axes[4].set_title(bold_text('Claude\\nvs.\\nGemini'), fontsize=9)\n",
    "axes[5].set_title(bold_text('Gemini\\nvs.\\nGPT'), fontsize=9)\n",
    "\n",
    "for ax in axes:\n",
    "   ax.set_facecolor(color='0.96')\n",
    "\n",
    "apply_subplot_labels([axes[0], axes[3]], bold=True, x=-0.2, y=1.15)\n",
    "plt.savefig('figure_value_similarity.pdf', bbox_inches='tight')"
   ]
  },
  {
   "cell_type": "code",
   "execution_count": null,
   "id": "0f31a4ee",
   "metadata": {},
   "outputs": [],
   "source": []
  }
 ],
 "metadata": {
  "kernelspec": {
   "display_name": "llm_deliberation_values",
   "language": "python",
   "name": "python3"
  },
  "language_info": {
   "codemirror_mode": {
    "name": "ipython",
    "version": 3
   },
   "file_extension": ".py",
   "mimetype": "text/x-python",
   "name": "python",
   "nbconvert_exporter": "python",
   "pygments_lexer": "ipython3",
   "version": "3.10.18"
  }
 },
 "nbformat": 4,
 "nbformat_minor": 5
}
